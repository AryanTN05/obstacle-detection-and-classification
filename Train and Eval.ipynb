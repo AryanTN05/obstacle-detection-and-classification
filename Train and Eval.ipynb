{
  "cells": [
    {
      "cell_type": "code",
      "execution_count": null,
      "metadata": {
        "id": "0fp-H0Qqjgi5"
      },
      "outputs": [],
      "source": [
        "!pip install ultralytics"
      ]
    },
    {
      "cell_type": "code",
      "execution_count": null,
      "metadata": {
        "id": "-XypT9bhjop5"
      },
      "outputs": [],
      "source": [
        "from ultralytics import YOLO\n"
      ]
    },
    {
      "cell_type": "code",
      "execution_count": null,
      "metadata": {
        "id": "VKxBjNIskFkc"
      },
      "outputs": [],
      "source": [
        "import yaml\n",
        "yolo_format=dict(\n",
        "                 train=\"/content/drive/MyDrive/DATS_2022 (1)/Images with Annotations\",\n",
        "                 val=\"/content/drive/MyDrive/DATS_2022 (1)/Images with Annotations\",\n",
        "                 nc=35,\n",
        "                 names={0:\"Traffic Signal\",\n",
        "                        1:\"Lamp Post\",\n",
        "                        2:\"Zebra Crossing\",\n",
        "                        3:\"Bike\",\n",
        "                        4:\"Car\",\n",
        "                        5:\"Rikshaw\",\n",
        "                        6:\"Tyre Works\",\n",
        "                        7:\"Tree\",\n",
        "                        8:\"Tractor\",\n",
        "                        9:\"Cattle\",\n",
        "                        10:\"Vegetation\",\n",
        "                        11:\"Electricity Pole\",\n",
        "                        12:\"Building\",\n",
        "                        13:\"Board\",\n",
        "                        14:\"Wall\",\n",
        "                        15:\"person\",\n",
        "                        16:\"Bus\",\n",
        "                        17:\"Bridge\",\n",
        "                        18:\"Road Divider\",\n",
        "                        19:\"Tempo\",\n",
        "                        20:\"Traffic Sign Board\",\n",
        "                        21:\"Flag\",\n",
        "                        22:\"Crane\",\n",
        "                        23:\"Cycle\",\n",
        "                        24:\"Dog\",\n",
        "                        25:\"Truck\",\n",
        "                        26:\"Glove\",\n",
        "                        27:\"Overbridge\",\n",
        "                        28:\"Manhole\",\n",
        "                        29:\"Bus Stop\",\n",
        "                        30:\"Barricade\",\n",
        "                        31:\"Petrol Pump\",\n",
        "                        32:\"Ambulance\",\n",
        "                        33:\"Goat\",\n",
        "                        34:\"Cart\"})\n",
        "\n",
        "with open('/content/yolo.yaml', 'w') as outfile:\n",
        "    yaml.dump(yolo_format, outfile, default_flow_style=False)"
      ]
    },
    {
      "cell_type": "code",
      "execution_count": null,
      "metadata": {
        "id": "NF6mMvQHz1G6"
      },
      "outputs": [],
      "source": [
        "import os\n",
        "len(os.listdir(\"/content/drive/MyDrive/DATS_2022 (1)/Images with Annotations/images\"))"
      ]
    },
    {
      "cell_type": "code",
      "execution_count": null,
      "metadata": {
        "id": "dwVvXEcdj08X"
      },
      "outputs": [],
      "source": [
        "!yolo mode=train task=detect model=\"Model variant\" data=\"Path to YAML File\" resume=True"
      ]
    },
    {
      "cell_type": "code",
      "source": [
        "!yolo mode=val model=\"Path to the pretrained weight of model\" data=\"Patht to YAML File\""
      ],
      "metadata": {
        "id": "3OSo-_hQ3niS"
      },
      "execution_count": null,
      "outputs": []
    }
  ],
  "metadata": {
    "accelerator": "GPU",
    "colab": {
      "gpuType": "T4",
      "provenance": []
    },
    "kernelspec": {
      "display_name": "Python 3",
      "name": "python3"
    },
    "language_info": {
      "name": "python"
    }
  },
  "nbformat": 4,
  "nbformat_minor": 0
}